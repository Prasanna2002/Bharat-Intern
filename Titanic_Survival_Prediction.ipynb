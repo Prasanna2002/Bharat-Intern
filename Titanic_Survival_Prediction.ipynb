{
 "cells": [
  {
   "cell_type": "code",
   "execution_count": 39,
   "id": "d6edb6b4-7592-4da0-9b16-ec46a1cbc303",
   "metadata": {},
   "outputs": [],
   "source": [
    "import pandas as pd"
   ]
  },
  {
   "cell_type": "code",
   "execution_count": 41,
   "id": "215e0970-60ca-4185-a08b-161ec9946222",
   "metadata": {},
   "outputs": [
    {
     "name": "stdin",
     "output_type": "stream",
     "text": [
      "Enter Passenger Name (Type Quit if Completed):  Kelly, Mr. James\n"
     ]
    },
    {
     "name": "stdout",
     "output_type": "stream",
     "text": [
      "Didn't Survived\n",
      "\n",
      "\n"
     ]
    },
    {
     "name": "stdin",
     "output_type": "stream",
     "text": [
      "Enter Passenger Name (Type Quit if Completed):  Myles, Mr. Thomas Francis\n"
     ]
    },
    {
     "name": "stdout",
     "output_type": "stream",
     "text": [
      "Didn't Survived\n",
      "\n",
      "\n"
     ]
    },
    {
     "name": "stdin",
     "output_type": "stream",
     "text": [
      "Enter Passenger Name (Type Quit if Completed):  Hirvonen, Mrs. Alexander (Helga E Lindqvist)\n"
     ]
    },
    {
     "name": "stdout",
     "output_type": "stream",
     "text": [
      "Survived\n",
      "\n",
      "\n"
     ]
    },
    {
     "name": "stdin",
     "output_type": "stream",
     "text": [
      "Enter Passenger Name (Type Quit if Completed):  abcd\n"
     ]
    },
    {
     "name": "stdout",
     "output_type": "stream",
     "text": [
      "Enter Valid Passenger Name \n",
      "\n"
     ]
    },
    {
     "name": "stdin",
     "output_type": "stream",
     "text": [
      "Enter Passenger Name (Type Quit if Completed):  quit\n"
     ]
    },
    {
     "name": "stdout",
     "output_type": "stream",
     "text": [
      "----------------------------------------------------------------------\n",
      "Total Passengers Name Checked : 3\n",
      "Passengeres Survived : 1\n",
      "Passengers who didn't Survived : 2\n"
     ]
    }
   ],
   "source": [
    "data = pd.read_csv(\"tested.csv\")\n",
    "condition = True\n",
    "total_survivors_checked = 0\n",
    "checked = 0\n",
    "while condition:\n",
    "    name = input(\"Enter Passenger Name (Type Quit if Completed): \").lower()\n",
    "    if name == 'quit': \n",
    "        print(\"----------------------------------------------------------------------\")\n",
    "        print(f\"Total Passengers Name Checked : {checked}\") \n",
    "        print(f\"Passengeres Survived : {total_survivors_checked}\") \n",
    "        print(f\"Passengers who didn't Survived : {checked - total_survivors_checked}\")\n",
    "        break\n",
    "    \n",
    "    if name not in list(data.Name.map(str.lower)): \n",
    "        print(\"Enter Valid Passenger Name \\n\") \n",
    "        continue\n",
    "    else:  \n",
    "        if int(data.Survived[data.Name.map(str.lower) == name]) == 1: \n",
    "            print(\"Survived\") \n",
    "            print(\"\\n\")\n",
    "            total_survivors_checked += 1\n",
    "        else: \n",
    "            print(\"Didn't Survived\") \n",
    "            print(\"\\n\")\n",
    "        checked += 1 "
   ]
  },
  {
   "cell_type": "code",
   "execution_count": 40,
   "id": "d43fc041-7991-4bc0-bf92-30a457d96ae7",
   "metadata": {},
   "outputs": [
    {
     "data": {
      "text/html": [
       "<div>\n",
       "<style scoped>\n",
       "    .dataframe tbody tr th:only-of-type {\n",
       "        vertical-align: middle;\n",
       "    }\n",
       "\n",
       "    .dataframe tbody tr th {\n",
       "        vertical-align: top;\n",
       "    }\n",
       "\n",
       "    .dataframe thead th {\n",
       "        text-align: right;\n",
       "    }\n",
       "</style>\n",
       "<table border=\"1\" class=\"dataframe\">\n",
       "  <thead>\n",
       "    <tr style=\"text-align: right;\">\n",
       "      <th></th>\n",
       "      <th>Survived</th>\n",
       "      <th>Name</th>\n",
       "    </tr>\n",
       "  </thead>\n",
       "  <tbody>\n",
       "    <tr>\n",
       "      <th>0</th>\n",
       "      <td>0</td>\n",
       "      <td>Kelly, Mr. James</td>\n",
       "    </tr>\n",
       "    <tr>\n",
       "      <th>1</th>\n",
       "      <td>1</td>\n",
       "      <td>Wilkes, Mrs. James (Ellen Needs)</td>\n",
       "    </tr>\n",
       "    <tr>\n",
       "      <th>2</th>\n",
       "      <td>0</td>\n",
       "      <td>Myles, Mr. Thomas Francis</td>\n",
       "    </tr>\n",
       "    <tr>\n",
       "      <th>3</th>\n",
       "      <td>0</td>\n",
       "      <td>Wirz, Mr. Albert</td>\n",
       "    </tr>\n",
       "    <tr>\n",
       "      <th>4</th>\n",
       "      <td>1</td>\n",
       "      <td>Hirvonen, Mrs. Alexander (Helga E Lindqvist)</td>\n",
       "    </tr>\n",
       "    <tr>\n",
       "      <th>...</th>\n",
       "      <td>...</td>\n",
       "      <td>...</td>\n",
       "    </tr>\n",
       "    <tr>\n",
       "      <th>413</th>\n",
       "      <td>0</td>\n",
       "      <td>Spector, Mr. Woolf</td>\n",
       "    </tr>\n",
       "    <tr>\n",
       "      <th>414</th>\n",
       "      <td>1</td>\n",
       "      <td>Oliva y Ocana, Dona. Fermina</td>\n",
       "    </tr>\n",
       "    <tr>\n",
       "      <th>415</th>\n",
       "      <td>0</td>\n",
       "      <td>Saether, Mr. Simon Sivertsen</td>\n",
       "    </tr>\n",
       "    <tr>\n",
       "      <th>416</th>\n",
       "      <td>0</td>\n",
       "      <td>Ware, Mr. Frederick</td>\n",
       "    </tr>\n",
       "    <tr>\n",
       "      <th>417</th>\n",
       "      <td>0</td>\n",
       "      <td>Peter, Master. Michael J</td>\n",
       "    </tr>\n",
       "  </tbody>\n",
       "</table>\n",
       "<p>418 rows × 2 columns</p>\n",
       "</div>"
      ],
      "text/plain": [
       "     Survived                                          Name\n",
       "0           0                              Kelly, Mr. James\n",
       "1           1              Wilkes, Mrs. James (Ellen Needs)\n",
       "2           0                     Myles, Mr. Thomas Francis\n",
       "3           0                              Wirz, Mr. Albert\n",
       "4           1  Hirvonen, Mrs. Alexander (Helga E Lindqvist)\n",
       "..        ...                                           ...\n",
       "413         0                            Spector, Mr. Woolf\n",
       "414         1                  Oliva y Ocana, Dona. Fermina\n",
       "415         0                  Saether, Mr. Simon Sivertsen\n",
       "416         0                           Ware, Mr. Frederick\n",
       "417         0                      Peter, Master. Michael J\n",
       "\n",
       "[418 rows x 2 columns]"
      ]
     },
     "execution_count": 40,
     "metadata": {},
     "output_type": "execute_result"
    }
   ],
   "source": [
    "data.loc[:,[\"Survived\",\"Name\"]]"
   ]
  },
  {
   "cell_type": "code",
   "execution_count": null,
   "id": "b3749747-a157-4c12-805b-36ce7d176846",
   "metadata": {},
   "outputs": [],
   "source": []
  }
 ],
 "metadata": {
  "kernelspec": {
   "display_name": "Python 3 (ipykernel)",
   "language": "python",
   "name": "python3"
  },
  "language_info": {
   "codemirror_mode": {
    "name": "ipython",
    "version": 3
   },
   "file_extension": ".py",
   "mimetype": "text/x-python",
   "name": "python",
   "nbconvert_exporter": "python",
   "pygments_lexer": "ipython3",
   "version": "3.10.9"
  }
 },
 "nbformat": 4,
 "nbformat_minor": 5
}
